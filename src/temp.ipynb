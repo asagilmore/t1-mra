{
 "cells": [
  {
   "cell_type": "code",
   "execution_count": 10,
   "metadata": {},
   "outputs": [],
   "source": [
    "import nibabel as nib\n",
    "import numpy as np\n",
    "import time\n",
    "import argparse\n",
    "from os.path import join as pjoin\n",
    "\n",
    "from T1mra_dataset import T1w2MraDataset\n",
    "import torchvision.transforms as transforms\n",
    "from torch.utils.data import DataLoader\n"
   ]
  },
  {
   "cell_type": "code",
   "execution_count": 11,
   "metadata": {},
   "outputs": [
    {
     "name": "stdout",
     "output_type": "stream",
     "text": [
      "Profiling DataLoader performance with 10 workers and batch size 32 on 10 batches\n"
     ]
    },
    {
     "name": "stderr",
     "output_type": "stream",
     "text": [
      "3it [00:03,  1.09s/it]"
     ]
    },
    {
     "name": "stdout",
     "output_type": "stream",
     "text": [
      "Time to create Dataset, preload into mem: 3.2862 seconds\n",
      "Length of dataset: 300\n"
     ]
    },
    {
     "name": "stderr",
     "output_type": "stream",
     "text": [
      "\n"
     ]
    }
   ],
   "source": [
    "num_workers = 10\n",
    "batch_size = 32\n",
    "num_batches = 10\n",
    "data_dir = \"/Users/asagilmore/src/t1-mra/data/split/test\"\n",
    "\n",
    "print(\"Profiling DataLoader performance\"\n",
    "      f\" with {num_workers} workers and batch size {batch_size}\"\n",
    "      f\" on {num_batches} batches\")\n",
    "\n",
    "test_transform = transforms.Compose([\n",
    "      transforms.ToTensor(),\n",
    "      transforms.Normalize(mean=[0.5], std=[0.5])\n",
    "])\n",
    "\n",
    "start_time = time.time()\n",
    "test_dataset = T1w2MraDataset(pjoin(data_dir, \"T1W\"),\n",
    "                              pjoin(data_dir, \"MRA\"),\n",
    "                              test_transform)\n",
    "stop_time = time.time()\n",
    "elapsed_time = stop_time - start_time\n",
    "print(\"Time to create Dataset, \"\n",
    "      f\"preload into mem: {elapsed_time:.4f} seconds\")\n",
    "\n",
    "print(f'Length of dataset: {len(test_dataset)}')\n"
   ]
  },
  {
   "cell_type": "code",
   "execution_count": 12,
   "metadata": {},
   "outputs": [
    {
     "name": "stdout",
     "output_type": "stream",
     "text": [
      "test first\n",
      "Time to load first item: 0.0025 seconds\n",
      "test last\n",
      "Time to load last item: 0.0008 seconds\n"
     ]
    }
   ],
   "source": [
    "\n",
    "print(f'test first')\n",
    "start_time = time.time()\n",
    "out = test_dataset[0]\n",
    "stop_time = time.time()\n",
    "\n",
    "elapsed_time = stop_time - start_time\n",
    "print(f\"Time to load first item: {elapsed_time:.4f} seconds\")\n",
    "\n",
    "print(f'test last')\n",
    "start_time = time.time()\n",
    "out = test_dataset[-1]\n",
    "stop_time = time.time()\n",
    "\n",
    "elapsed_time = stop_time - start_time\n",
    "print(f\"Time to load last item: {elapsed_time:.4f} seconds\")\n",
    "\n"
   ]
  },
  {
   "cell_type": "code",
   "execution_count": 14,
   "metadata": {},
   "outputs": [
    {
     "name": "stdout",
     "output_type": "stream",
     "text": [
      "Time to create DataLoader: 0.0003 seconds\n"
     ]
    }
   ],
   "source": [
    "\n",
    "    start_time = time.time()\n",
    "    test_dataloader = DataLoader(test_dataset, batch_size=batch_size,\n",
    "                                 num_workers=1, pin_memory=True)\n",
    "    stop_time = time.time()\n",
    "    elapsed_time = stop_time - start_time\n",
    "    print(\"Time to create DataLoader: \"\n",
    "          f\"{elapsed_time:.4f} seconds\")\n",
    "\n",
    "    # warm up\n",
    "    for i, _ in enumerate(test_dataloader):\n",
    "        if i >= 5:\n",
    "            break\n",
    "\n",
    "    start_time = time.time()\n",
    "    for i, _ in enumerate(test_dataloader):\n",
    "        if i >= num_batches:\n",
    "            break\n",
    "    end_time = time.time()\n",
    "\n",
    "    elapsed_time = end_time - start_time\n",
    "    time_per_batch = elapsed_time / num_batches\n",
    "    print(f\"Time per batch: {time_per_batch:.4f} seconds\")\n",
    "    print(f\"Total time for all batches: {elapsed_time:.4f} seconds\")\n",
    "\n"
   ]
  }
 ],
 "metadata": {
  "kernelspec": {
   "display_name": "t1wmra",
   "language": "python",
   "name": "python3"
  },
  "language_info": {
   "codemirror_mode": {
    "name": "ipython",
    "version": 3
   },
   "file_extension": ".py",
   "mimetype": "text/x-python",
   "name": "python",
   "nbconvert_exporter": "python",
   "pygments_lexer": "ipython3",
   "version": "3.11.9"
  }
 },
 "nbformat": 4,
 "nbformat_minor": 2
}
