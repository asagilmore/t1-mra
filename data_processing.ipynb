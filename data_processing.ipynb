{
 "cells": [
  {
   "cell_type": "code",
   "execution_count": 2,
   "metadata": {},
   "outputs": [],
   "source": [
    "import os\n",
    "\n",
    "def get_matched_ids(dirs, split_char=\"-\"):\n",
    "    '''\n",
    "    returns a sorted set of all ids that exist in all given dirs\n",
    "    '''\n",
    "    files = [os.listdir(dir) for dir in dirs]\n",
    "    file_ids = [[file.split(split_char)[0] for file in file_list] for\n",
    "                file_list in files]\n",
    "    sets = [set(file_id) for file_id in file_ids]\n",
    "    matched = set.intersection(*sets)\n",
    "    return sorted(matched)"
   ]
  },
  {
   "cell_type": "code",
   "execution_count": 25,
   "metadata": {},
   "outputs": [
    {
     "name": "stderr",
     "output_type": "stream",
     "text": [
      "  0%|          | 0/570 [00:00<?, ?it/s]\n"
     ]
    },
    {
     "ename": "TypeError",
     "evalue": "join() argument must be str, bytes, or os.PathLike object, not 'list'",
     "output_type": "error",
     "traceback": [
      "\u001b[0;31m---------------------------------------------------------------------------\u001b[0m",
      "\u001b[0;31mTypeError\u001b[0m                                 Traceback (most recent call last)",
      "Cell \u001b[0;32mIn[25], line 21\u001b[0m\n\u001b[1;32m     18\u001b[0m T1_file \u001b[38;5;241m=\u001b[39m [file \u001b[38;5;28;01mfor\u001b[39;00m file \u001b[38;5;129;01min\u001b[39;00m T1_files \u001b[38;5;28;01mif\u001b[39;00m file\u001b[38;5;241m.\u001b[39mstartswith(\u001b[38;5;28mid\u001b[39m)]\n\u001b[1;32m     19\u001b[0m MRA_file \u001b[38;5;241m=\u001b[39m [file \u001b[38;5;28;01mfor\u001b[39;00m file \u001b[38;5;129;01min\u001b[39;00m MRA_files \u001b[38;5;28;01mif\u001b[39;00m file\u001b[38;5;241m.\u001b[39mstartswith(\u001b[38;5;28mid\u001b[39m)]\n\u001b[0;32m---> 21\u001b[0m T1_img \u001b[38;5;241m=\u001b[39m nib\u001b[38;5;241m.\u001b[39mload(\u001b[43mos\u001b[49m\u001b[38;5;241;43m.\u001b[39;49m\u001b[43mpath\u001b[49m\u001b[38;5;241;43m.\u001b[39;49m\u001b[43mjoin\u001b[49m\u001b[43m(\u001b[49m\u001b[43mT1_dir\u001b[49m\u001b[43m,\u001b[49m\u001b[43m \u001b[49m\u001b[43mT1_file\u001b[49m\u001b[43m)\u001b[49m)\n\u001b[1;32m     22\u001b[0m MRA_img \u001b[38;5;241m=\u001b[39m nib\u001b[38;5;241m.\u001b[39mload(os\u001b[38;5;241m.\u001b[39mpath\u001b[38;5;241m.\u001b[39mjoin(MRA_dir, MRA_file))\n\u001b[1;32m     24\u001b[0m \u001b[38;5;28mprint\u001b[39m(\u001b[38;5;124mf\u001b[39m\u001b[38;5;124m\"\u001b[39m\u001b[38;5;124mt1w shape: \u001b[39m\u001b[38;5;132;01m{\u001b[39;00mT1_img\u001b[38;5;241m.\u001b[39mshape\u001b[38;5;132;01m}\u001b[39;00m\u001b[38;5;124m\"\u001b[39m)\n",
      "File \u001b[0;32m<frozen posixpath>:90\u001b[0m, in \u001b[0;36mjoin\u001b[0;34m(a, *p)\u001b[0m\n",
      "File \u001b[0;32m<frozen genericpath>:152\u001b[0m, in \u001b[0;36m_check_arg_types\u001b[0;34m(funcname, *args)\u001b[0m\n",
      "\u001b[0;31mTypeError\u001b[0m: join() argument must be str, bytes, or os.PathLike object, not 'list'"
     ]
    }
   ],
   "source": [
    "# resample to t1w space using nibable. Source: https://neuroimaging-data-science.org/content/005-nipy/003-transforms.html\n",
    "import nibabel as nib\n",
    "from nibabel.processing import resample_from_to\n",
    "from tqdm import tqdm\n",
    "\n",
    "T1_dir = \"/Users/asagilmore/src/t1-mra/raw-data/T1W\"\n",
    "MRA_dir = \"/Users/asagilmore/src/t1-mra/raw-data/MRA\"\n",
    "\n",
    "T1_files = [file for file in os.listdir(T1_dir) if not file.startswith('.')]\n",
    "MRA_files = [file for file in os.listdir(MRA_dir) if not file.startswith('.')]\n",
    "\n",
    "T1_out_dir = \"/Users/asagilmore/src/t1-mra/processed-data/T1W\"\n",
    "MRA_out_dir = \"/Users/asagilmore/src/t1-mra/processed-data/MRA\"\n",
    "\n",
    "matched_ids = get_matched_ids([T1_dir, MRA_dir])\n",
    "\n",
    "for id in tqdm(matched_ids):\n",
    "    T1_file = [file for file in T1_files if file.startswith(id)]\n",
    "    MRA_file = [file for file in MRA_files if file.startswith(id)]\n",
    "\n",
    "    if len(T1_file) == 1 and len(MRA_file) == 1:\n",
    "        T1_file = T1_file[0]\n",
    "        MRA_file = MRA_file[0]\n",
    "\n",
    "        T1_img = nib.load(os.path.join(T1_dir, T1_file))\n",
    "        MRA_img = nib.load(os.path.join(MRA_dir, MRA_file))\n",
    "\n",
    "        print(f\"t1w shape: {T1_img.shape}\")\n",
    "        print(f\"mra shape: {MRA_img.shape}\")\n",
    "        ## upsample mra to t1w resolution\n",
    "        T1W_resampled = resample_from_to(T1_img, MRA_img,mode='nearest')\n",
    "\n",
    "        mra_mask = MRA_img.get_fdata() > 0\n",
    "        print(f\"T1W resamp shape: {T1W_resampled.shape}\")\n",
    "        print(f\"mra mask shape: {mra_mask.shape}\")\n",
    "\n",
    "        nib.save(T1W_resampled, os.path.join(T1_out_dir, f\"{id}-T1W-resampled.nii.gz\"))\n",
    "        nib.save(MRA_img, os.path.join(MRA_out_dir, f\"{id}-MRA.nii.gz\"))\n"
   ]
  }
 ],
 "metadata": {
  "kernelspec": {
   "display_name": "t1wmra",
   "language": "python",
   "name": "python3"
  },
  "language_info": {
   "codemirror_mode": {
    "name": "ipython",
    "version": 3
   },
   "file_extension": ".py",
   "mimetype": "text/x-python",
   "name": "python",
   "nbconvert_exporter": "python",
   "pygments_lexer": "ipython3",
   "version": "3.11.9"
  }
 },
 "nbformat": 4,
 "nbformat_minor": 2
}
